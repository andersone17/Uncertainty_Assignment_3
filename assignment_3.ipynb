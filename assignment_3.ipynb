{
 "cells": [
  {
   "cell_type": "markdown",
   "id": "7c6c1330",
   "metadata": {},
   "source": [
    "# Assignment 3\n",
    "### Due 9/21. Do four of five."
   ]
  },
  {
   "cell_type": "code",
   "execution_count": 166,
   "id": "7b89b570",
   "metadata": {},
   "outputs": [],
   "source": [
    "# Import Libraries\n",
    "import pandas as pd\n",
    "import numpy as np\n",
    "import seaborn as sns\n",
    "import matplotlib.pyplot as plt"
   ]
  },
  {
   "cell_type": "markdown",
   "id": "c7761202",
   "metadata": {},
   "source": [
    "## 1. \n",
    "- Open the NHANES (or Ames prices or college completion datasets, if you prefer)\n",
    "- Find two categorical variables of interest (there are 198, and short descriptions are given in the `nhanes_meta_17_18.csv` file). Investigate their missing values (you don't have to focus on missing values for this analysis like we did with police use of force, but always be aware of how dirty the data are)\n",
    "    - `GeneralHealthCondition` ; `HowOftenDrankMilkAge1835`\n",
    "- Compute a contingency table for your categorical $X$ and $Y$\n",
    "    - See code below.\n",
    "- Discuss any interesting patterns (or lack of one) that you observe\n",
    "    - At first I noticed that people of excellent health drink milk between once per week and more than once per day (good for a milk drinker like myself); however, after studying the table further, I realized that the proportion of milk drinkers is roughly the same for every health category. These data show that ~70% of the population drinks milk between once a week and more than once a day between the ages of 18-35. Unfortunately; however, there does not seem to be a pattern between milk drinking and various health outcomes. With these data, we cannot yet disprove the null hypothesis that milk drinkers have better health conditions."
   ]
  },
  {
   "cell_type": "code",
   "execution_count": 167,
   "id": "bd2df79b",
   "metadata": {},
   "outputs": [
    {
     "name": "stderr",
     "output_type": "stream",
     "text": [
      "C:\\Users\\eca4zm\\AppData\\Local\\Temp\\ipykernel_17792\\3986871803.py:2: DtypeWarning: Columns (142) have mixed types. Specify dtype option on import or set low_memory=False.\n",
      "  nhanes = pd.read_csv(\"nhanes_data_17_18.csv\")\n"
     ]
    },
    {
     "data": {
      "application/vnd.microsoft.datawrangler.viewer.v0+json": {
       "columns": [
        {
         "name": "index",
         "rawType": "int64",
         "type": "integer"
        },
        {
         "name": "SEQN",
         "rawType": "float64",
         "type": "float"
        },
        {
         "name": "GeneralHealthCondition",
         "rawType": "object",
         "type": "unknown"
        },
        {
         "name": "EverBreastfedOrFedBreastmilk",
         "rawType": "float64",
         "type": "float"
        },
        {
         "name": "AgeStoppedBreastfeedingdays",
         "rawType": "float64",
         "type": "float"
        },
        {
         "name": "AgeFirstFedFormuladays",
         "rawType": "float64",
         "type": "float"
        },
        {
         "name": "AgeStoppedReceivingFormuladays",
         "rawType": "float64",
         "type": "float"
        },
        {
         "name": "AgeStartedOtherFoodbeverage",
         "rawType": "float64",
         "type": "float"
        },
        {
         "name": "AgeFirstFedMilkdays",
         "rawType": "float64",
         "type": "float"
        },
        {
         "name": "TypeOfMilkFirstFedWholeMilk",
         "rawType": "object",
         "type": "unknown"
        },
        {
         "name": "TypeOfMilkFirstFed2Milk",
         "rawType": "float64",
         "type": "float"
        },
        {
         "name": "TypeOfMilkFirstFed1Milk",
         "rawType": "float64",
         "type": "float"
        },
        {
         "name": "TypeOfMilkFirstFedFatFreeMilk",
         "rawType": "float64",
         "type": "float"
        },
        {
         "name": "TypeOfMilkFirstFedSoyMilk",
         "rawType": "float64",
         "type": "float"
        },
        {
         "name": "TypeOfMilkFirstFedOther",
         "rawType": "float64",
         "type": "float"
        },
        {
         "name": "HowHealthyIsTheDiet",
         "rawType": "object",
         "type": "unknown"
        },
        {
         "name": "Past30DayMilkProductConsumption",
         "rawType": "object",
         "type": "string"
        },
        {
         "name": "YouDrinkWholeOrRegularMilk",
         "rawType": "object",
         "type": "unknown"
        },
        {
         "name": "YouDrink2FatMilk",
         "rawType": "float64",
         "type": "float"
        },
        {
         "name": "YouDrink1FatMilk",
         "rawType": "float64",
         "type": "float"
        },
        {
         "name": "YouDrinkFatFreeskimMilk",
         "rawType": "float64",
         "type": "float"
        },
        {
         "name": "YouDrinkSoyMilk",
         "rawType": "float64",
         "type": "float"
        },
        {
         "name": "YouDrinkAnotherTypeOfMilk",
         "rawType": "float64",
         "type": "float"
        },
        {
         "name": "RegularMilkUse5TimesPerWeek",
         "rawType": "object",
         "type": "unknown"
        },
        {
         "name": "HowOftenDrankMilkAge512",
         "rawType": "object",
         "type": "unknown"
        },
        {
         "name": "HowOftenDrankMilkAge1317",
         "rawType": "object",
         "type": "unknown"
        },
        {
         "name": "HowOftenDrankMilkAge1835",
         "rawType": "object",
         "type": "unknown"
        },
        {
         "name": "CommunitygovernmentMealsDelivered",
         "rawType": "float64",
         "type": "float"
        },
        {
         "name": "EatMealsAtCommunityseniorCenter",
         "rawType": "float64",
         "type": "float"
        },
        {
         "name": "AttendKindergartenThruHighSchool",
         "rawType": "float64",
         "type": "float"
        },
        {
         "name": "SchoolServesSchoolLunches",
         "rawType": "float64",
         "type": "float"
        },
        {
         "name": "OfTimesweekGetSchoolLunch",
         "rawType": "float64",
         "type": "float"
        },
        {
         "name": "SchoolLunchFreeReducedOrFullPrice",
         "rawType": "object",
         "type": "unknown"
        },
        {
         "name": "SchoolServeCompleteBreakfastEachDay",
         "rawType": "float64",
         "type": "float"
        },
        {
         "name": "OfTimesweekGetSchoolBreakfast",
         "rawType": "float64",
         "type": "float"
        },
        {
         "name": "SchoolBreakfastFreereducedfullPrice",
         "rawType": "object",
         "type": "unknown"
        },
        {
         "name": "SummerProgramMealFreereducedPrice",
         "rawType": "object",
         "type": "unknown"
        },
        {
         "name": "OfMealsNotHomePrepared",
         "rawType": "float64",
         "type": "float"
        },
        {
         "name": "OfMealsFromFastFoodOrPizzaPlace",
         "rawType": "float64",
         "type": "float"
        },
        {
         "name": "OfReadytoeatFoodsInPast30Days",
         "rawType": "float64",
         "type": "float"
        },
        {
         "name": "OfFrozenMealspizzaInPast30Days",
         "rawType": "float64",
         "type": "float"
        },
        {
         "name": "HeardOfMyPlate",
         "rawType": "float64",
         "type": "float"
        },
        {
         "name": "LookedUpMyPlateOnInternet",
         "rawType": "float64",
         "type": "float"
        },
        {
         "name": "TriedMyPlatePlan",
         "rawType": "float64",
         "type": "float"
        },
        {
         "name": "MainMealPlannerpreparer",
         "rawType": "float64",
         "type": "float"
        },
        {
         "name": "SharedMealPlanningpreparingDuty",
         "rawType": "float64",
         "type": "float"
        },
        {
         "name": "MainFoodShopper",
         "rawType": "float64",
         "type": "float"
        },
        {
         "name": "SharedFoodShoppingDuty",
         "rawType": "float64",
         "type": "float"
        },
        {
         "name": "HaveSeriousDifficultyHearing",
         "rawType": "float64",
         "type": "float"
        },
        {
         "name": "HaveSeriousDifficultySeeing",
         "rawType": "float64",
         "type": "float"
        },
        {
         "name": "HaveSeriousDifficultyConcentrating",
         "rawType": "float64",
         "type": "float"
        },
        {
         "name": "HaveSeriousDifficultyWalking",
         "rawType": "float64",
         "type": "float"
        },
        {
         "name": "HaveDifficultyDressingOrBathing",
         "rawType": "float64",
         "type": "float"
        },
        {
         "name": "HaveDifficultyDoingErrandsAlone",
         "rawType": "float64",
         "type": "float"
        },
        {
         "name": "HowOftenDoYouFeelWorriedOrAnxious",
         "rawType": "float64",
         "type": "float"
        },
        {
         "name": "TakeMedicationForTheseFeelings",
         "rawType": "float64",
         "type": "float"
        },
        {
         "name": "HowOftenDoYouFeelDepressed",
         "rawType": "float64",
         "type": "float"
        },
        {
         "name": "TakeMedicationForDepression",
         "rawType": "float64",
         "type": "float"
        },
        {
         "name": "CoveredByHealthInsurance",
         "rawType": "float64",
         "type": "float"
        },
        {
         "name": "UsualSleepTimeOnWeekdaysOrWorkdays",
         "rawType": "object",
         "type": "unknown"
        },
        {
         "name": "UsualWakeTimeOnWeekdaysOrWorkdays",
         "rawType": "object",
         "type": "unknown"
        },
        {
         "name": "SleepHoursWeekdaysOrWorkdays",
         "rawType": "float64",
         "type": "float"
        },
        {
         "name": "HowOftenDoYouSnore",
         "rawType": "object",
         "type": "unknown"
        },
        {
         "name": "EverToldDoctorHadTroubleSleeping",
         "rawType": "float64",
         "type": "float"
        },
        {
         "name": "HowOftenFeelOverlySleepyDuringDay",
         "rawType": "object",
         "type": "unknown"
        },
        {
         "name": "HaveLittleInterestInDoingThings",
         "rawType": "float64",
         "type": "float"
        },
        {
         "name": "FeelingDownDepressedOrHopeless",
         "rawType": "float64",
         "type": "float"
        },
        {
         "name": "TroubleSleepingOrSleepingTooMuch",
         "rawType": "float64",
         "type": "float"
        },
        {
         "name": "FeelingTiredOrHavingLittleEnergy",
         "rawType": "float64",
         "type": "float"
        },
        {
         "name": "PoorAppetiteOrOvereating",
         "rawType": "float64",
         "type": "float"
        },
        {
         "name": "FeelingBadAboutYourself",
         "rawType": "float64",
         "type": "float"
        },
        {
         "name": "TroubleConcentratingOnThings",
         "rawType": "float64",
         "type": "float"
        },
        {
         "name": "MovingOrSpeakingSlowlyOrTooFast",
         "rawType": "float64",
         "type": "float"
        },
        {
         "name": "ThoughtYouWouldBeBetterOffDead",
         "rawType": "float64",
         "type": "float"
        },
        {
         "name": "DifficultyTheseProblemsHaveCaused",
         "rawType": "object",
         "type": "unknown"
        },
        {
         "name": "SmokedTobaccoLast5Days",
         "rawType": "float64",
         "type": "float"
        },
        {
         "name": "DaysSmokedCigarettesLast5Days",
         "rawType": "float64",
         "type": "float"
        },
        {
         "name": "CigarettesSmokedPerDay",
         "rawType": "float64",
         "type": "float"
        },
        {
         "name": "UsedAnyTobaccoProductLast5Days",
         "rawType": "float64",
         "type": "float"
        },
        {
         "name": "ExperienceConfusionmemoryProblems",
         "rawType": "float64",
         "type": "float"
        },
        {
         "name": "PhysicalMentalEmotionalLimitations",
         "rawType": "float64",
         "type": "float"
        },
        {
         "name": "DifficultyManagingMoney",
         "rawType": "object",
         "type": "unknown"
        },
        {
         "name": "60SecHr30SecHr2",
         "rawType": "float64",
         "type": "float"
        },
        {
         "name": "60SecPulse30SecPulse2",
         "rawType": "float64",
         "type": "float"
        },
        {
         "name": "SystolicBloodPres1StRdgMmHg",
         "rawType": "float64",
         "type": "float"
        },
        {
         "name": "DiastolicBloodPres1StRdgMmHg",
         "rawType": "float64",
         "type": "float"
        },
        {
         "name": "SystolicBloodPres2NdRdgMmHg",
         "rawType": "float64",
         "type": "float"
        },
        {
         "name": "DiastolicBloodPres2NdRdgMmHg",
         "rawType": "float64",
         "type": "float"
        },
        {
         "name": "SystolicBloodPres3RdRdgMmHg",
         "rawType": "float64",
         "type": "float"
        },
        {
         "name": "DiastolicBloodPres3RdRdgMmHg",
         "rawType": "float64",
         "type": "float"
        },
        {
         "name": "EnergyKcal_DR2TOT",
         "rawType": "float64",
         "type": "float"
        },
        {
         "name": "ProteinGm_DR2TOT",
         "rawType": "float64",
         "type": "float"
        },
        {
         "name": "CarbohydrateGm_DR2TOT",
         "rawType": "float64",
         "type": "float"
        },
        {
         "name": "TotalSugarsGm_DR2TOT",
         "rawType": "float64",
         "type": "float"
        },
        {
         "name": "DietaryFiberGm_DR2TOT",
         "rawType": "float64",
         "type": "float"
        },
        {
         "name": "TotalFatGm_DR2TOT",
         "rawType": "float64",
         "type": "float"
        },
        {
         "name": "TotalSaturatedFattyAcidsGm_DR2TOT",
         "rawType": "float64",
         "type": "float"
        },
        {
         "name": "TotalMonounsaturatedFattyAcidsGm_DR2TOT",
         "rawType": "float64",
         "type": "float"
        },
        {
         "name": "TotalPolyunsaturatedFattyAcidsGm_DR2TOT",
         "rawType": "float64",
         "type": "float"
        },
        {
         "name": "CholesterolMg_DR2TOT",
         "rawType": "float64",
         "type": "float"
        },
        {
         "name": "AlcoholGm_DR2TOT",
         "rawType": "float64",
         "type": "float"
        },
        {
         "name": "WeightKg",
         "rawType": "float64",
         "type": "float"
        },
        {
         "name": "RecumbentLengthCm",
         "rawType": "float64",
         "type": "float"
        },
        {
         "name": "StandingHeightCm",
         "rawType": "float64",
         "type": "float"
        },
        {
         "name": "BodyMassIndexKgm2",
         "rawType": "float64",
         "type": "float"
        },
        {
         "name": "WaistCircumferenceCm",
         "rawType": "float64",
         "type": "float"
        },
        {
         "name": "DirectHdlcholesterolMgdl",
         "rawType": "float64",
         "type": "float"
        },
        {
         "name": "TotalCholesterolMgdl",
         "rawType": "float64",
         "type": "float"
        },
        {
         "name": "VigorousWorkActivity",
         "rawType": "float64",
         "type": "float"
        },
        {
         "name": "ModerateWorkActivity",
         "rawType": "float64",
         "type": "float"
        },
        {
         "name": "WalkOrBicycle",
         "rawType": "float64",
         "type": "float"
        },
        {
         "name": "VigorousRecreationalActivities",
         "rawType": "float64",
         "type": "float"
        },
        {
         "name": "ModerateRecreationalActivities",
         "rawType": "float64",
         "type": "float"
        },
        {
         "name": "MinutesSedentaryActivity",
         "rawType": "float64",
         "type": "float"
        },
        {
         "name": "EverBeenToldYouHaveAsthma",
         "rawType": "float64",
         "type": "float"
        },
        {
         "name": "DoctorEverSaidYouHadArthritis",
         "rawType": "float64",
         "type": "float"
        },
        {
         "name": "EverToldYouHadHeartAttack",
         "rawType": "float64",
         "type": "float"
        },
        {
         "name": "AgeWhenToldYouHadHeartAttack",
         "rawType": "float64",
         "type": "float"
        },
        {
         "name": "EverToldYouHadAStroke",
         "rawType": "float64",
         "type": "float"
        },
        {
         "name": "AgeWhenToldYouHadAStroke",
         "rawType": "float64",
         "type": "float"
        },
        {
         "name": "EverToldYouHadCancerOrMalignancy",
         "rawType": "float64",
         "type": "float"
        },
        {
         "name": "1StCancerWhatKindWasIt",
         "rawType": "float64",
         "type": "float"
        },
        {
         "name": "Age1StCancerMcq230ADiagnosed",
         "rawType": "float64",
         "type": "float"
        },
        {
         "name": "EverUsedMarijuanaOrHashish",
         "rawType": "float64",
         "type": "float"
        },
        {
         "name": "DaysUsedMarijuanaOrHashishmonth",
         "rawType": "float64",
         "type": "float"
        },
        {
         "name": "EverUsedCocaineheroinmethamphetamine",
         "rawType": "float64",
         "type": "float"
        },
        {
         "name": "EverUseAnyFormOfCocaine",
         "rawType": "float64",
         "type": "float"
        },
        {
         "name": "OfDaysUsedCocainemonth",
         "rawType": "float64",
         "type": "float"
        },
        {
         "name": "EverUsedHeroin",
         "rawType": "float64",
         "type": "float"
        },
        {
         "name": "OfDaysUsedHeroinmonth",
         "rawType": "float64",
         "type": "float"
        },
        {
         "name": "EverUsedMethamphetamine",
         "rawType": "float64",
         "type": "float"
        },
        {
         "name": "DaysUsedMethamphetaminemonth",
         "rawType": "float64",
         "type": "float"
        },
        {
         "name": "EverBeenInRehabilitationProgram",
         "rawType": "float64",
         "type": "float"
        },
        {
         "name": "BloodLeadUgdl",
         "rawType": "float64",
         "type": "float"
        },
        {
         "name": "BloodCadmiumUgl",
         "rawType": "float64",
         "type": "float"
        },
        {
         "name": "BloodMercuryTotalUgl",
         "rawType": "float64",
         "type": "float"
        },
        {
         "name": "BloodSeleniumUgl",
         "rawType": "float64",
         "type": "float"
        },
        {
         "name": "BloodManganeseUgl",
         "rawType": "float64",
         "type": "float"
        },
        {
         "name": "Gender",
         "rawType": "object",
         "type": "string"
        },
        {
         "name": "AgeInYearsAtScreening",
         "rawType": "float64",
         "type": "float"
        },
        {
         "name": "AgeInMonthsAtScreening0To24Mos",
         "rawType": "float64",
         "type": "float"
        },
        {
         "name": "RacehispanicOrigin",
         "rawType": "object",
         "type": "string"
        },
        {
         "name": "RacehispanicOriginWNhAsian",
         "rawType": "object",
         "type": "string"
        },
        {
         "name": "ServedActiveDutyInUsArmedForces",
         "rawType": "object",
         "type": "unknown"
        },
        {
         "name": "EducationLevelChildrenyouth619",
         "rawType": "object",
         "type": "unknown"
        },
        {
         "name": "EducationLevelAdults20",
         "rawType": "object",
         "type": "unknown"
        },
        {
         "name": "MaritalStatus",
         "rawType": "object",
         "type": "unknown"
        },
        {
         "name": "TotalNumberOfPeopleInTheHousehold",
         "rawType": "object",
         "type": "string"
        },
        {
         "name": "TotalNumberOfPeopleInTheFamily",
         "rawType": "object",
         "type": "string"
        },
        {
         "name": "OfChildren5YearsOrYoungerInHh",
         "rawType": "object",
         "type": "string"
        },
        {
         "name": "OfChildren617YearsOldInHh",
         "rawType": "object",
         "type": "string"
        },
        {
         "name": "OfAdults60YearsOrOlderInHh",
         "rawType": "object",
         "type": "string"
        },
        {
         "name": "AnnualHouseholdIncome",
         "rawType": "float64",
         "type": "float"
        },
        {
         "name": "AnnualFamilyIncome",
         "rawType": "float64",
         "type": "float"
        },
        {
         "name": "RatioOfFamilyIncomeToPoverty",
         "rawType": "float64",
         "type": "float"
        },
        {
         "name": "TrunkFatG",
         "rawType": "float64",
         "type": "float"
        },
        {
         "name": "TrunkPercentFat",
         "rawType": "float64",
         "type": "float"
        },
        {
         "name": "TotalPercentFat",
         "rawType": "float64",
         "type": "float"
        },
        {
         "name": "HowOftenAddSaltToFoodAtTable",
         "rawType": "object",
         "type": "unknown"
        },
        {
         "name": "OnSpecialDiet",
         "rawType": "float64",
         "type": "float"
        },
        {
         "name": "WeightLosslowCalorieDiet",
         "rawType": "float64",
         "type": "float"
        },
        {
         "name": "LowFatlowCholesterolDiet",
         "rawType": "float64",
         "type": "float"
        },
        {
         "name": "LowSaltlowSodiumDiet",
         "rawType": "float64",
         "type": "float"
        },
        {
         "name": "DiabeticDiet",
         "rawType": "float64",
         "type": "float"
        },
        {
         "name": "LowCarbohydrateDiet",
         "rawType": "float64",
         "type": "float"
        },
        {
         "name": "EnergyKcal_DR1TOT",
         "rawType": "float64",
         "type": "float"
        },
        {
         "name": "ProteinGm_DR1TOT",
         "rawType": "float64",
         "type": "float"
        },
        {
         "name": "CarbohydrateGm_DR1TOT",
         "rawType": "float64",
         "type": "float"
        },
        {
         "name": "TotalSugarsGm_DR1TOT",
         "rawType": "float64",
         "type": "float"
        },
        {
         "name": "DietaryFiberGm_DR1TOT",
         "rawType": "float64",
         "type": "float"
        },
        {
         "name": "TotalFatGm_DR1TOT",
         "rawType": "float64",
         "type": "float"
        },
        {
         "name": "TotalSaturatedFattyAcidsGm_DR1TOT",
         "rawType": "float64",
         "type": "float"
        },
        {
         "name": "TotalMonounsaturatedFattyAcidsGm_DR1TOT",
         "rawType": "float64",
         "type": "float"
        },
        {
         "name": "TotalPolyunsaturatedFattyAcidsGm_DR1TOT",
         "rawType": "float64",
         "type": "float"
        },
        {
         "name": "CholesterolMg_DR1TOT",
         "rawType": "float64",
         "type": "float"
        },
        {
         "name": "AlcoholGm_DR1TOT",
         "rawType": "float64",
         "type": "float"
        },
        {
         "name": "TunaEatenDuringPast30Days",
         "rawType": "float64",
         "type": "float"
        },
        {
         "name": "DoctorToldYouHaveDiabetes",
         "rawType": "object",
         "type": "string"
        },
        {
         "name": "AgeWhenFirstToldYouHadDiabetes",
         "rawType": "float64",
         "type": "float"
        },
        {
         "name": "EverToldYouHavePrediabetes",
         "rawType": "float64",
         "type": "float"
        },
        {
         "name": "EverToldHaveHealthRiskForDiabetes",
         "rawType": "float64",
         "type": "float"
        },
        {
         "name": "FamilyHistory",
         "rawType": "object",
         "type": "unknown"
        },
        {
         "name": "TakingInsulinNow",
         "rawType": "float64",
         "type": "float"
        },
        {
         "name": "TakeDiabeticPillsToLowerBloodSugar",
         "rawType": "float64",
         "type": "float"
        },
        {
         "name": "WhatWasYourLastA1CLevel",
         "rawType": "float64",
         "type": "float"
        },
        {
         "name": "Glycohemoglobin",
         "rawType": "float64",
         "type": "float"
        },
        {
         "name": "SmokedAtLeast100CigarettesInLife",
         "rawType": "float64",
         "type": "float"
        },
        {
         "name": "AgeStartedSmokingCigarettesRegularly",
         "rawType": "float64",
         "type": "float"
        },
        {
         "name": "DoYouNowSmokeCigarettes",
         "rawType": "object",
         "type": "unknown"
        },
        {
         "name": "DaysSmokedCigsDuringPast30Days",
         "rawType": "float64",
         "type": "float"
        },
        {
         "name": "AvgCigarettesdayDuringPast30Days",
         "rawType": "float64",
         "type": "float"
        },
        {
         "name": "TriedToQuitSmoking",
         "rawType": "float64",
         "type": "float"
        },
        {
         "name": "TimesStoppedSmokingCigarettes",
         "rawType": "float64",
         "type": "float"
        },
        {
         "name": "HowLongWereYouAbleToStopSmoking",
         "rawType": "float64",
         "type": "float"
        },
        {
         "name": "UnitOfMeasureDayweekmonthyear_2_SMQ",
         "rawType": "object",
         "type": "unknown"
        },
        {
         "name": "CurrentSelfreportedHeightInches",
         "rawType": "float64",
         "type": "float"
        },
        {
         "name": "CurrentSelfreportedWeightPounds",
         "rawType": "float64",
         "type": "float"
        },
        {
         "name": "TriedToLoseWeightInPastYear",
         "rawType": "float64",
         "type": "float"
        },
        {
         "name": "TimesLost10LbsOrMoreToLoseWeight",
         "rawType": "object",
         "type": "unknown"
        }
       ],
       "ref": "edf1ebf3-9660-4925-aba1-6211c4dd8d40",
       "rows": [
        [
         "0",
         "93703.0",
         null,
         "1.0",
         "273.0",
         "1.0",
         "365.0",
         "152.0",
         "365.0",
         "Whole or regular milk",
         null,
         null,
         null,
         null,
         null,
         null,
         "Often-once a day or more?",
         null,
         null,
         "12.0",
         null,
         null,
         null,
         null,
         null,
         null,
         null,
         null,
         null,
         null,
         null,
         null,
         null,
         null,
         null,
         null,
         null,
         "10.0",
         "5.397605346934028e-79",
         "5.397605346934028e-79",
         "1.0",
         null,
         null,
         null,
         null,
         null,
         null,
         null,
         "0.0",
         "0.0",
         null,
         null,
         null,
         null,
         null,
         null,
         null,
         null,
         "1.0",
         null,
         null,
         null,
         null,
         null,
         null,
         null,
         null,
         null,
         null,
         null,
         null,
         null,
         null,
         null,
         null,
         null,
         null,
         null,
         null,
         null,
         null,
         null,
         "120.0",
         null,
         null,
         null,
         null,
         null,
         null,
         null,
         null,
         null,
         null,
         null,
         null,
         null,
         null,
         null,
         null,
         null,
         null,
         "13.7",
         "89.6",
         "88.6",
         "17.5",
         "48.2",
         null,
         null,
         null,
         null,
         null,
         null,
         null,
         null,
         "0.0",
         null,
         null,
         null,
         null,
         null,
         null,
         null,
         null,
         null,
         null,
         null,
         null,
         null,
         null,
         null,
         null,
         null,
         null,
         null,
         null,
         null,
         null,
         null,
         "Female",
         "2.0",
         null,
         "Other Race - Including Multi-Racial",
         "Non-Hispanic Asian",
         null,
         null,
         null,
         null,
         "5",
         "5",
         "3 or more",
         "0",
         "0",
         "100000.0",
         "100000.0",
         "5.0",
         null,
         null,
         null,
         null,
         null,
         null,
         null,
         null,
         null,
         null,
         null,
         null,
         null,
         null,
         null,
         null,
         null,
         null,
         null,
         null,
         null,
         null,
         "0",
         null,
         null,
         null,
         null,
         "0.0",
         null,
         null,
         null,
         null,
         null,
         null,
         null,
         null,
         null,
         null,
         null,
         null,
         null,
         null,
         null,
         null
        ],
        [
         "1",
         "93704.0",
         null,
         "1.0",
         "60.0",
         "3.0",
         "365.0",
         "126.0",
         "365.0",
         "Whole or regular milk",
         null,
         null,
         null,
         null,
         null,
         null,
         "Sometimes-once a week or more but less than once a day or",
         null,
         null,
         "12.0",
         null,
         null,
         null,
         null,
         null,
         null,
         null,
         null,
         null,
         null,
         null,
         null,
         null,
         null,
         null,
         null,
         null,
         "5.397605346934028e-79",
         null,
         "5.397605346934028e-79",
         "5.397605346934028e-79",
         null,
         null,
         null,
         null,
         null,
         null,
         null,
         "0.0",
         "0.0",
         null,
         null,
         null,
         null,
         null,
         null,
         null,
         null,
         "1.0",
         null,
         null,
         null,
         null,
         null,
         null,
         null,
         null,
         null,
         null,
         null,
         null,
         null,
         null,
         null,
         null,
         null,
         null,
         null,
         null,
         null,
         null,
         null,
         "114.0",
         null,
         null,
         null,
         null,
         null,
         null,
         null,
         "1356.0",
         "30.49",
         "229.69000000000003",
         "134.37",
         "8.2",
         "37.02000000000001",
         "10.368",
         "10.443",
         "13.249",
         "70.0",
         "5.397605346934028e-79",
         "13.9",
         "95.0",
         "94.2",
         "15.7",
         "50.0",
         null,
         null,
         null,
         null,
         null,
         null,
         null,
         null,
         "0.0",
         null,
         null,
         null,
         null,
         null,
         null,
         null,
         null,
         null,
         null,
         null,
         null,
         null,
         null,
         null,
         null,
         null,
         null,
         null,
         "0.07",
         "0.47",
         "142.28",
         "9.41",
         "Male",
         "2.0",
         null,
         "Non-Hispanic White",
         "Non-Hispanic White",
         null,
         null,
         null,
         null,
         "4",
         "4",
         "2",
         "0",
         "0",
         "100000.0",
         "100000.0",
         "5.0",
         null,
         null,
         null,
         null,
         "0.0",
         null,
         null,
         null,
         null,
         null,
         "1230.0",
         "51.580000000000005",
         "160.46",
         "76.97000000000001",
         "5.9",
         "43.24000000000001",
         "11.372",
         "14.332999999999998",
         "12.506",
         "144.0",
         "5.397605346934028e-79",
         "0.0",
         "0",
         null,
         null,
         null,
         null,
         "0.0",
         null,
         null,
         null,
         null,
         null,
         null,
         null,
         null,
         null,
         null,
         null,
         null,
         null,
         null,
         null,
         null
        ],
        [
         "2",
         "93705.0",
         "Good",
         null,
         null,
         null,
         null,
         null,
         null,
         null,
         null,
         null,
         null,
         null,
         null,
         "Good",
         "Sometimes-once a week or more but less than once a day or",
         null,
         null,
         null,
         null,
         null,
         "30.0",
         "{My/His/Her} milk drinking has varied over {my/his/her} life-sometimes {I've/he's/she's} been a regular milk drinker",
         "Often-once a day or more",
         "Sometimes-once a week or more but less than once a day",
         "Sometimes-once a week or more but less than once a day",
         "0.0",
         "0.0",
         null,
         null,
         null,
         null,
         null,
         null,
         null,
         null,
         "5.0",
         "5.397605346934028e-79",
         "5.397605346934028e-79",
         "5.397605346934028e-79",
         "0.0",
         null,
         null,
         "1.0",
         "0.0",
         "1.0",
         "0.0",
         "0.0",
         "0.0",
         "0.0",
         "0.0",
         "0.0",
         "0.0",
         "1.0",
         "0.0",
         "1.0",
         "0.0",
         "1.0",
         "b'23:00'",
         "b'07:00'",
         "8.0",
         "Occasionally - 3-4 nights a week",
         "0.0",
         "Never",
         "0.0",
         "0.0",
         "0.0",
         "0.0",
         "0.0",
         "0.0",
         "0.0",
         "0.0",
         "0.0",
         null,
         "0.0",
         null,
         null,
         "0.0",
         "0.0",
         "0.0",
         "No difficulty",
         null,
         "52.0",
         null,
         null,
         null,
         null,
         "202.0",
         "62.0",
         "1235.0",
         "38.52",
         "147.49",
         "43.040000000000006",
         "13.1",
         "55.19",
         "14.079",
         "19.882",
         "17.072",
         "402.0",
         "5.397605346934028e-79",
         "79.5",
         null,
         "158.3",
         "31.7",
         "101.8",
         "60.0",
         "157.0",
         "0.0",
         "0.0",
         "0.0",
         "0.0",
         "1.0",
         "300.0",
         "1.0",
         "1.0",
         "0.0",
         null,
         "0.0",
         null,
         "0.0",
         null,
         null,
         null,
         null,
         "0.0",
         null,
         null,
         null,
         null,
         null,
         null,
         null,
         "2.98",
         "0.24",
         "1.07",
         "185.71",
         "8.57",
         "Female",
         "66.0",
         null,
         "Non-Hispanic Black",
         "Non-Hispanic Black",
         "0.0",
         null,
         "9-11th grade (Includes 12th grade with no diploma)",
         "Divorced",
         "1",
         "1",
         "0",
         "0",
         "1",
         "12500.0",
         "12500.0",
         "0.82",
         null,
         null,
         null,
         null,
         "0.0",
         null,
         null,
         null,
         null,
         null,
         "1202.0",
         "20.00999999999999",
         "157.45000000000002",
         "91.54999999999998",
         "8.4",
         "56.98",
         "16.435",
         "16.432",
         "19.786",
         "14.0",
         "5.397605346934028e-79",
         null,
         "0",
         null,
         "0.0",
         "0.0",
         null,
         "0.0",
         null,
         null,
         "6.2",
         "1.0",
         "16.0",
         "Not at all",
         null,
         null,
         null,
         null,
         null,
         null,
         "63.0",
         "165.0",
         "0.0",
         "11 times or more"
        ],
        [
         "3",
         "93706.0",
         "Very good",
         null,
         null,
         null,
         null,
         null,
         null,
         null,
         null,
         null,
         null,
         null,
         null,
         "Very good",
         "Never",
         null,
         null,
         null,
         null,
         null,
         null,
         null,
         null,
         null,
         null,
         null,
         null,
         "0.0",
         null,
         null,
         null,
         null,
         null,
         null,
         null,
         "6.0",
         "3.0",
         "5.397605346934028e-79",
         "5.397605346934028e-79",
         "0.0",
         null,
         null,
         "0.0",
         "1.0",
         "0.0",
         "1.0",
         "0.0",
         "0.0",
         "0.0",
         "0.0",
         "0.0",
         "0.0",
         "0.0",
         "0.0",
         "0.0",
         "0.0",
         "1.0",
         "b'23:30'",
         "b'10:00'",
         "10.5",
         "Rarely - 1-2 nights a week",
         "0.0",
         "Rarely - 1 time a month",
         "0.0",
         "0.0",
         "0.0",
         "0.0",
         "0.0",
         "0.0",
         "0.0",
         "0.0",
         "0.0",
         null,
         "0.0",
         null,
         null,
         "0.0",
         null,
         null,
         null,
         null,
         "82.0",
         "112.0",
         "74.0",
         "114.0",
         "70.0",
         "108.0",
         "76.0",
         null,
         null,
         null,
         null,
         null,
         null,
         null,
         null,
         null,
         null,
         null,
         "66.3",
         null,
         "175.7",
         "21.5",
         "79.3",
         "47.0",
         "148.0",
         "0.0",
         "0.0",
         "1.0",
         "0.0",
         "1.0",
         "240.0",
         "0.0",
         null,
         null,
         null,
         null,
         null,
         null,
         null,
         null,
         "0.0",
         null,
         "0.0",
         null,
         null,
         null,
         null,
         null,
         null,
         null,
         "0.74",
         "0.21",
         "10.64",
         "199.44",
         "14.07",
         "Male",
         "18.0",
         null,
         "Other Race - Including Multi-Racial",
         "Non-Hispanic Asian",
         "0.0",
         "More than high school",
         null,
         null,
         "5",
         "5",
         "0",
         "0",
         "1",
         null,
         null,
         null,
         "6358.9",
         "20.9",
         "22.7",
         "Rarely",
         "0.0",
         null,
         null,
         null,
         null,
         null,
         "1987.0",
         "94.19",
         "89.82000000000001",
         "14.729999999999997",
         "7.1000000000000005",
         "137.39",
         "35.169",
         "45.80499999999999",
         "49.873000000000005",
         "462.0",
         "5.397605346934028e-79",
         "0.0",
         "0",
         null,
         "0.0",
         "0.0",
         null,
         "0.0",
         null,
         null,
         "5.2",
         "0.0",
         null,
         null,
         null,
         null,
         null,
         null,
         null,
         null,
         "68.0",
         "145.0",
         "0.0",
         "Never"
        ],
        [
         "4",
         "93707.0",
         "Good",
         null,
         null,
         null,
         null,
         null,
         null,
         null,
         null,
         null,
         null,
         null,
         null,
         null,
         "Never",
         null,
         null,
         null,
         null,
         null,
         null,
         null,
         null,
         null,
         null,
         null,
         null,
         "1.0",
         "1.0",
         "5.0",
         "Reduced price",
         "1.0",
         "5.0",
         "Reduced price",
         "Did not attend summer program",
         "1.0",
         "1.0",
         "6.0",
         "4.0",
         null,
         null,
         null,
         null,
         null,
         null,
         null,
         "0.0",
         "0.0",
         "0.0",
         "0.0",
         "0.0",
         null,
         null,
         null,
         null,
         null,
         "1.0",
         null,
         null,
         null,
         null,
         null,
         null,
         null,
         null,
         null,
         null,
         null,
         null,
         null,
         null,
         null,
         null,
         "0.0",
         null,
         null,
         "0.0",
         null,
         null,
         null,
         null,
         "100.0",
         "128.0",
         "38.0",
         "128.0",
         "46.0",
         "128.0",
         "58.0",
         "1794.0",
         "92.03",
         "153.12",
         "85.81",
         "7.899999999999999",
         "93.98",
         "31.098",
         "35.404999999999994",
         "17.826999999999998",
         "656.0",
         "5.397605346934028e-79",
         "45.4",
         null,
         "158.4",
         "18.1",
         "64.1",
         "68.0",
         "189.0",
         null,
         null,
         null,
         null,
         null,
         null,
         "0.0",
         null,
         null,
         null,
         null,
         null,
         null,
         null,
         null,
         null,
         null,
         null,
         null,
         null,
         null,
         null,
         null,
         null,
         null,
         "0.39",
         "0.14",
         "0.2",
         "179.34",
         "12.6",
         "Male",
         "13.0",
         null,
         "Other Race - Including Multi-Racial",
         "Other Race - Including Multi-Racial",
         null,
         "6th grade",
         null,
         null,
         "7 or more people in the Household",
         "7 or more people in the Family",
         "0",
         "3 or more",
         "0",
         "70000.0",
         "70000.0",
         "1.88",
         "2972.8",
         "15.7",
         "19.0",
         null,
         "0.0",
         null,
         null,
         null,
         null,
         null,
         "1775.0",
         "59.48",
         "188.15",
         "84.22",
         "10.9",
         "89.18",
         "33.252",
         "33.712",
         "12.423999999999998",
         "585.0",
         "5.397605346934028e-79",
         null,
         "0",
         null,
         "0.0",
         "0.0",
         null,
         "0.0",
         null,
         null,
         "5.6",
         null,
         null,
         null,
         null,
         null,
         null,
         null,
         null,
         null,
         null,
         null,
         null,
         null
        ]
       ],
       "shape": {
        "columns": 198,
        "rows": 5
       }
      },
      "text/html": [
       "<div>\n",
       "<style scoped>\n",
       "    .dataframe tbody tr th:only-of-type {\n",
       "        vertical-align: middle;\n",
       "    }\n",
       "\n",
       "    .dataframe tbody tr th {\n",
       "        vertical-align: top;\n",
       "    }\n",
       "\n",
       "    .dataframe thead th {\n",
       "        text-align: right;\n",
       "    }\n",
       "</style>\n",
       "<table border=\"1\" class=\"dataframe\">\n",
       "  <thead>\n",
       "    <tr style=\"text-align: right;\">\n",
       "      <th></th>\n",
       "      <th>SEQN</th>\n",
       "      <th>GeneralHealthCondition</th>\n",
       "      <th>EverBreastfedOrFedBreastmilk</th>\n",
       "      <th>AgeStoppedBreastfeedingdays</th>\n",
       "      <th>AgeFirstFedFormuladays</th>\n",
       "      <th>AgeStoppedReceivingFormuladays</th>\n",
       "      <th>AgeStartedOtherFoodbeverage</th>\n",
       "      <th>AgeFirstFedMilkdays</th>\n",
       "      <th>TypeOfMilkFirstFedWholeMilk</th>\n",
       "      <th>TypeOfMilkFirstFed2Milk</th>\n",
       "      <th>...</th>\n",
       "      <th>DaysSmokedCigsDuringPast30Days</th>\n",
       "      <th>AvgCigarettesdayDuringPast30Days</th>\n",
       "      <th>TriedToQuitSmoking</th>\n",
       "      <th>TimesStoppedSmokingCigarettes</th>\n",
       "      <th>HowLongWereYouAbleToStopSmoking</th>\n",
       "      <th>UnitOfMeasureDayweekmonthyear_2_SMQ</th>\n",
       "      <th>CurrentSelfreportedHeightInches</th>\n",
       "      <th>CurrentSelfreportedWeightPounds</th>\n",
       "      <th>TriedToLoseWeightInPastYear</th>\n",
       "      <th>TimesLost10LbsOrMoreToLoseWeight</th>\n",
       "    </tr>\n",
       "  </thead>\n",
       "  <tbody>\n",
       "    <tr>\n",
       "      <th>0</th>\n",
       "      <td>93703.0</td>\n",
       "      <td>NaN</td>\n",
       "      <td>1.0</td>\n",
       "      <td>273.0</td>\n",
       "      <td>1.0</td>\n",
       "      <td>365.0</td>\n",
       "      <td>152.0</td>\n",
       "      <td>365.0</td>\n",
       "      <td>Whole or regular milk</td>\n",
       "      <td>NaN</td>\n",
       "      <td>...</td>\n",
       "      <td>NaN</td>\n",
       "      <td>NaN</td>\n",
       "      <td>NaN</td>\n",
       "      <td>NaN</td>\n",
       "      <td>NaN</td>\n",
       "      <td>NaN</td>\n",
       "      <td>NaN</td>\n",
       "      <td>NaN</td>\n",
       "      <td>NaN</td>\n",
       "      <td>NaN</td>\n",
       "    </tr>\n",
       "    <tr>\n",
       "      <th>1</th>\n",
       "      <td>93704.0</td>\n",
       "      <td>NaN</td>\n",
       "      <td>1.0</td>\n",
       "      <td>60.0</td>\n",
       "      <td>3.0</td>\n",
       "      <td>365.0</td>\n",
       "      <td>126.0</td>\n",
       "      <td>365.0</td>\n",
       "      <td>Whole or regular milk</td>\n",
       "      <td>NaN</td>\n",
       "      <td>...</td>\n",
       "      <td>NaN</td>\n",
       "      <td>NaN</td>\n",
       "      <td>NaN</td>\n",
       "      <td>NaN</td>\n",
       "      <td>NaN</td>\n",
       "      <td>NaN</td>\n",
       "      <td>NaN</td>\n",
       "      <td>NaN</td>\n",
       "      <td>NaN</td>\n",
       "      <td>NaN</td>\n",
       "    </tr>\n",
       "    <tr>\n",
       "      <th>2</th>\n",
       "      <td>93705.0</td>\n",
       "      <td>Good</td>\n",
       "      <td>NaN</td>\n",
       "      <td>NaN</td>\n",
       "      <td>NaN</td>\n",
       "      <td>NaN</td>\n",
       "      <td>NaN</td>\n",
       "      <td>NaN</td>\n",
       "      <td>NaN</td>\n",
       "      <td>NaN</td>\n",
       "      <td>...</td>\n",
       "      <td>NaN</td>\n",
       "      <td>NaN</td>\n",
       "      <td>NaN</td>\n",
       "      <td>NaN</td>\n",
       "      <td>NaN</td>\n",
       "      <td>NaN</td>\n",
       "      <td>63.0</td>\n",
       "      <td>165.0</td>\n",
       "      <td>0.0</td>\n",
       "      <td>11 times or more</td>\n",
       "    </tr>\n",
       "    <tr>\n",
       "      <th>3</th>\n",
       "      <td>93706.0</td>\n",
       "      <td>Very good</td>\n",
       "      <td>NaN</td>\n",
       "      <td>NaN</td>\n",
       "      <td>NaN</td>\n",
       "      <td>NaN</td>\n",
       "      <td>NaN</td>\n",
       "      <td>NaN</td>\n",
       "      <td>NaN</td>\n",
       "      <td>NaN</td>\n",
       "      <td>...</td>\n",
       "      <td>NaN</td>\n",
       "      <td>NaN</td>\n",
       "      <td>NaN</td>\n",
       "      <td>NaN</td>\n",
       "      <td>NaN</td>\n",
       "      <td>NaN</td>\n",
       "      <td>68.0</td>\n",
       "      <td>145.0</td>\n",
       "      <td>0.0</td>\n",
       "      <td>Never</td>\n",
       "    </tr>\n",
       "    <tr>\n",
       "      <th>4</th>\n",
       "      <td>93707.0</td>\n",
       "      <td>Good</td>\n",
       "      <td>NaN</td>\n",
       "      <td>NaN</td>\n",
       "      <td>NaN</td>\n",
       "      <td>NaN</td>\n",
       "      <td>NaN</td>\n",
       "      <td>NaN</td>\n",
       "      <td>NaN</td>\n",
       "      <td>NaN</td>\n",
       "      <td>...</td>\n",
       "      <td>NaN</td>\n",
       "      <td>NaN</td>\n",
       "      <td>NaN</td>\n",
       "      <td>NaN</td>\n",
       "      <td>NaN</td>\n",
       "      <td>NaN</td>\n",
       "      <td>NaN</td>\n",
       "      <td>NaN</td>\n",
       "      <td>NaN</td>\n",
       "      <td>NaN</td>\n",
       "    </tr>\n",
       "  </tbody>\n",
       "</table>\n",
       "<p>5 rows × 198 columns</p>\n",
       "</div>"
      ],
      "text/plain": [
       "      SEQN GeneralHealthCondition  EverBreastfedOrFedBreastmilk  \\\n",
       "0  93703.0                    NaN                           1.0   \n",
       "1  93704.0                    NaN                           1.0   \n",
       "2  93705.0                   Good                           NaN   \n",
       "3  93706.0              Very good                           NaN   \n",
       "4  93707.0                   Good                           NaN   \n",
       "\n",
       "   AgeStoppedBreastfeedingdays  AgeFirstFedFormuladays  \\\n",
       "0                        273.0                     1.0   \n",
       "1                         60.0                     3.0   \n",
       "2                          NaN                     NaN   \n",
       "3                          NaN                     NaN   \n",
       "4                          NaN                     NaN   \n",
       "\n",
       "   AgeStoppedReceivingFormuladays  AgeStartedOtherFoodbeverage  \\\n",
       "0                           365.0                        152.0   \n",
       "1                           365.0                        126.0   \n",
       "2                             NaN                          NaN   \n",
       "3                             NaN                          NaN   \n",
       "4                             NaN                          NaN   \n",
       "\n",
       "   AgeFirstFedMilkdays TypeOfMilkFirstFedWholeMilk  TypeOfMilkFirstFed2Milk  \\\n",
       "0                365.0       Whole or regular milk                      NaN   \n",
       "1                365.0       Whole or regular milk                      NaN   \n",
       "2                  NaN                         NaN                      NaN   \n",
       "3                  NaN                         NaN                      NaN   \n",
       "4                  NaN                         NaN                      NaN   \n",
       "\n",
       "   ...  DaysSmokedCigsDuringPast30Days  AvgCigarettesdayDuringPast30Days  \\\n",
       "0  ...                             NaN                               NaN   \n",
       "1  ...                             NaN                               NaN   \n",
       "2  ...                             NaN                               NaN   \n",
       "3  ...                             NaN                               NaN   \n",
       "4  ...                             NaN                               NaN   \n",
       "\n",
       "   TriedToQuitSmoking  TimesStoppedSmokingCigarettes  \\\n",
       "0                 NaN                            NaN   \n",
       "1                 NaN                            NaN   \n",
       "2                 NaN                            NaN   \n",
       "3                 NaN                            NaN   \n",
       "4                 NaN                            NaN   \n",
       "\n",
       "  HowLongWereYouAbleToStopSmoking UnitOfMeasureDayweekmonthyear_2_SMQ  \\\n",
       "0                             NaN                                 NaN   \n",
       "1                             NaN                                 NaN   \n",
       "2                             NaN                                 NaN   \n",
       "3                             NaN                                 NaN   \n",
       "4                             NaN                                 NaN   \n",
       "\n",
       "  CurrentSelfreportedHeightInches  CurrentSelfreportedWeightPounds  \\\n",
       "0                             NaN                              NaN   \n",
       "1                             NaN                              NaN   \n",
       "2                            63.0                            165.0   \n",
       "3                            68.0                            145.0   \n",
       "4                             NaN                              NaN   \n",
       "\n",
       "   TriedToLoseWeightInPastYear  TimesLost10LbsOrMoreToLoseWeight  \n",
       "0                          NaN                               NaN  \n",
       "1                          NaN                               NaN  \n",
       "2                          0.0                  11 times or more  \n",
       "3                          0.0                             Never  \n",
       "4                          NaN                               NaN  \n",
       "\n",
       "[5 rows x 198 columns]"
      ]
     },
     "execution_count": 167,
     "metadata": {},
     "output_type": "execute_result"
    }
   ],
   "source": [
    "# Load Data\n",
    "nhanes = pd.read_csv(\"nhanes_data_17_18.csv\")\n",
    "nhanes.head()\n",
    "# Columns: HowHealthyIsTheDiet; HowOftenDrankMilkAge1835; GeneralHealthCondition"
   ]
  },
  {
   "cell_type": "code",
   "execution_count": 168,
   "id": "819fc0be",
   "metadata": {},
   "outputs": [
    {
     "name": "stdout",
     "output_type": "stream",
     "text": [
      "Proportion of NA Values for General Health Condition: 28.71%\n",
      "Proportion of NA Values for Milk Drinkers 18-35 is 54.17%\n"
     ]
    }
   ],
   "source": [
    "# Missing Value Investigation\n",
    "nhanes['GeneralHealthCondition_na'] = nhanes['GeneralHealthCondition'].isna()\n",
    "print(f'Proportion of NA Values for General Health Condition: {(nhanes['GeneralHealthCondition_na'].sum()/len(nhanes['GeneralHealthCondition_na']))*100:,.2f}%')\n",
    "nhanes['HowOftenDrankMilkAge1835_na'] = nhanes['HowOftenDrankMilkAge1835'].isna()\n",
    "print(f'Proportion of NA Values for Milk Drinkers 18-35 is {(nhanes['HowOftenDrankMilkAge1835_na'].sum()/len(nhanes['HowOftenDrankMilkAge1835_na']))*100:,.2f}%')"
   ]
  },
  {
   "cell_type": "code",
   "execution_count": 169,
   "id": "d17bce5a",
   "metadata": {},
   "outputs": [
    {
     "data": {
      "text/html": [
       "<style type=\"text/css\">\n",
       "#T_cff94_row0_col0 {\n",
       "  background-color: #0a539e;\n",
       "  color: #f1f1f1;\n",
       "}\n",
       "#T_cff94_row0_col1 {\n",
       "  background-color: #084488;\n",
       "  color: #f1f1f1;\n",
       "}\n",
       "#T_cff94_row0_col2, #T_cff94_row0_col3 {\n",
       "  background-color: #083e81;\n",
       "  color: #f1f1f1;\n",
       "}\n",
       "#T_cff94_row0_col4 {\n",
       "  background-color: #084285;\n",
       "  color: #f1f1f1;\n",
       "}\n",
       "#T_cff94_row1_col0 {\n",
       "  background-color: #dceaf6;\n",
       "  color: #000000;\n",
       "}\n",
       "#T_cff94_row1_col1 {\n",
       "  background-color: #e8f1fa;\n",
       "  color: #000000;\n",
       "}\n",
       "#T_cff94_row1_col2, #T_cff94_row1_col3 {\n",
       "  background-color: #ecf4fb;\n",
       "  color: #000000;\n",
       "}\n",
       "#T_cff94_row1_col4 {\n",
       "  background-color: #eaf2fb;\n",
       "  color: #000000;\n",
       "}\n",
       "</style>\n",
       "<table id=\"T_cff94\">\n",
       "  <thead>\n",
       "    <tr>\n",
       "      <th class=\"index_name level0\" >HowOftenDrankMilkAge1835</th>\n",
       "      <th id=\"T_cff94_level0_col0\" class=\"col_heading level0 col0\" >Never</th>\n",
       "      <th id=\"T_cff94_level0_col1\" class=\"col_heading level0 col1\" >Often-once a day or more</th>\n",
       "      <th id=\"T_cff94_level0_col2\" class=\"col_heading level0 col2\" >Rarely-less than once a week</th>\n",
       "      <th id=\"T_cff94_level0_col3\" class=\"col_heading level0 col3\" >Sometimes-once a week or more but less than once a day</th>\n",
       "      <th id=\"T_cff94_level0_col4\" class=\"col_heading level0 col4\" >Varied</th>\n",
       "    </tr>\n",
       "    <tr>\n",
       "      <th class=\"index_name level0\" >GeneralHealthCondition_na</th>\n",
       "      <th class=\"blank col0\" >&nbsp;</th>\n",
       "      <th class=\"blank col1\" >&nbsp;</th>\n",
       "      <th class=\"blank col2\" >&nbsp;</th>\n",
       "      <th class=\"blank col3\" >&nbsp;</th>\n",
       "      <th class=\"blank col4\" >&nbsp;</th>\n",
       "    </tr>\n",
       "  </thead>\n",
       "  <tbody>\n",
       "    <tr>\n",
       "      <th id=\"T_cff94_level0_row0\" class=\"row_heading level0 row0\" >False</th>\n",
       "      <td id=\"T_cff94_row0_col0\" class=\"data row0 col0\" >0.87</td>\n",
       "      <td id=\"T_cff94_row0_col1\" class=\"data row0 col1\" >0.92</td>\n",
       "      <td id=\"T_cff94_row0_col2\" class=\"data row0 col2\" >0.94</td>\n",
       "      <td id=\"T_cff94_row0_col3\" class=\"data row0 col3\" >0.94</td>\n",
       "      <td id=\"T_cff94_row0_col4\" class=\"data row0 col4\" >0.93</td>\n",
       "    </tr>\n",
       "    <tr>\n",
       "      <th id=\"T_cff94_level0_row1\" class=\"row_heading level0 row1\" >True</th>\n",
       "      <td id=\"T_cff94_row1_col0\" class=\"data row1 col0\" >0.13</td>\n",
       "      <td id=\"T_cff94_row1_col1\" class=\"data row1 col1\" >0.08</td>\n",
       "      <td id=\"T_cff94_row1_col2\" class=\"data row1 col2\" >0.06</td>\n",
       "      <td id=\"T_cff94_row1_col3\" class=\"data row1 col3\" >0.06</td>\n",
       "      <td id=\"T_cff94_row1_col4\" class=\"data row1 col4\" >0.07</td>\n",
       "    </tr>\n",
       "  </tbody>\n",
       "</table>\n"
      ],
      "text/plain": [
       "<pandas.io.formats.style.Styler at 0x26c0e743610>"
      ]
     },
     "execution_count": 169,
     "metadata": {},
     "output_type": "execute_result"
    }
   ],
   "source": [
    "# CrossTab Analysis of NA Health Condition versus how often they drink milk\n",
    "pd.crosstab(nhanes['GeneralHealthCondition_na'], nhanes['HowOftenDrankMilkAge1835'], normalize='columns')\\\n",
    "    .style.background_gradient(\n",
    "        cmap='Blues', \n",
    "        vmin=0, vmax=1\n",
    "    ).format(\"{:.2f}\")\n",
    "\n",
    "# Generally, the proportion of missing General_Health_Condition is consistent aross various levels of milk drinkers. "
   ]
  },
  {
   "cell_type": "code",
   "execution_count": 170,
   "id": "447e62fc",
   "metadata": {},
   "outputs": [
    {
     "data": {
      "text/html": [
       "<style type=\"text/css\">\n",
       "#T_c049f_row0_col1, #T_c049f_row0_col4 {\n",
       "  background-color: #f5f9fe;\n",
       "  color: #000000;\n",
       "}\n",
       "#T_c049f_row0_col2, #T_c049f_row0_col3, #T_c049f_row0_col5 {\n",
       "  background-color: #f5fafe;\n",
       "  color: #000000;\n",
       "}\n",
       "#T_c049f_row1_col1, #T_c049f_row1_col2 {\n",
       "  background-color: #f1f7fd;\n",
       "  color: #000000;\n",
       "}\n",
       "#T_c049f_row1_col3 {\n",
       "  background-color: #eff6fc;\n",
       "  color: #000000;\n",
       "}\n",
       "#T_c049f_row1_col4 {\n",
       "  background-color: #ecf4fb;\n",
       "  color: #000000;\n",
       "}\n",
       "#T_c049f_row1_col5 {\n",
       "  background-color: #edf4fc;\n",
       "  color: #000000;\n",
       "}\n",
       "#T_c049f_row2_col1 {\n",
       "  background-color: #d7e6f5;\n",
       "  color: #000000;\n",
       "}\n",
       "#T_c049f_row2_col2 {\n",
       "  background-color: #d4e4f4;\n",
       "  color: #000000;\n",
       "}\n",
       "#T_c049f_row2_col3 {\n",
       "  background-color: #d0e1f2;\n",
       "  color: #000000;\n",
       "}\n",
       "#T_c049f_row2_col4 {\n",
       "  background-color: #d3e4f3;\n",
       "  color: #000000;\n",
       "}\n",
       "#T_c049f_row2_col5 {\n",
       "  background-color: #d5e5f4;\n",
       "  color: #000000;\n",
       "}\n",
       "#T_c049f_row3_col1 {\n",
       "  background-color: #aacfe5;\n",
       "  color: #000000;\n",
       "}\n",
       "#T_c049f_row3_col2 {\n",
       "  background-color: #91c3de;\n",
       "  color: #000000;\n",
       "}\n",
       "#T_c049f_row3_col3 {\n",
       "  background-color: #97c6df;\n",
       "  color: #000000;\n",
       "}\n",
       "#T_c049f_row3_col4, #T_c049f_row4_col2 {\n",
       "  background-color: #9fcae1;\n",
       "  color: #000000;\n",
       "}\n",
       "#T_c049f_row3_col5 {\n",
       "  background-color: #b3d3e8;\n",
       "  color: #000000;\n",
       "}\n",
       "#T_c049f_row4_col1 {\n",
       "  background-color: #7fb9da;\n",
       "  color: #000000;\n",
       "}\n",
       "#T_c049f_row4_col3 {\n",
       "  background-color: #a5cde3;\n",
       "  color: #000000;\n",
       "}\n",
       "#T_c049f_row4_col4 {\n",
       "  background-color: #9dcae1;\n",
       "  color: #000000;\n",
       "}\n",
       "#T_c049f_row4_col5 {\n",
       "  background-color: #7db8da;\n",
       "  color: #000000;\n",
       "}\n",
       "</style>\n",
       "<table id=\"T_c049f\">\n",
       "  <thead>\n",
       "    <tr>\n",
       "      <th class=\"index_name level0\" >GeneralHealthCondition</th>\n",
       "      <th id=\"T_c049f_level0_col0\" class=\"col_heading level0 col0\" >HowOftenDrankMilkAge1835</th>\n",
       "      <th id=\"T_c049f_level0_col1\" class=\"col_heading level0 col1\" >Excellent</th>\n",
       "      <th id=\"T_c049f_level0_col2\" class=\"col_heading level0 col2\" >Very good</th>\n",
       "      <th id=\"T_c049f_level0_col3\" class=\"col_heading level0 col3\" >Good</th>\n",
       "      <th id=\"T_c049f_level0_col4\" class=\"col_heading level0 col4\" >Fair or</th>\n",
       "      <th id=\"T_c049f_level0_col5\" class=\"col_heading level0 col5\" >Poor?</th>\n",
       "    </tr>\n",
       "  </thead>\n",
       "  <tbody>\n",
       "    <tr>\n",
       "      <th id=\"T_c049f_level0_row0\" class=\"row_heading level0 row0\" >4</th>\n",
       "      <td id=\"T_c049f_row0_col0\" class=\"data row0 col0\" >Varied</td>\n",
       "      <td id=\"T_c049f_row0_col1\" class=\"data row0 col1\" >0.012658</td>\n",
       "      <td id=\"T_c049f_row0_col2\" class=\"data row0 col2\" >0.008226</td>\n",
       "      <td id=\"T_c049f_row0_col3\" class=\"data row0 col3\" >0.010610</td>\n",
       "      <td id=\"T_c049f_row0_col4\" class=\"data row0 col4\" >0.015228</td>\n",
       "      <td id=\"T_c049f_row0_col5\" class=\"data row0 col5\" >0.009091</td>\n",
       "    </tr>\n",
       "    <tr>\n",
       "      <th id=\"T_c049f_level0_row1\" class=\"row_heading level0 row1\" >0</th>\n",
       "      <td id=\"T_c049f_row1_col0\" class=\"data row1 col0\" >Never</td>\n",
       "      <td id=\"T_c049f_row1_col1\" class=\"data row1 col1\" >0.034810</td>\n",
       "      <td id=\"T_c049f_row1_col2\" class=\"data row1 col2\" >0.032902</td>\n",
       "      <td id=\"T_c049f_row1_col3\" class=\"data row1 col3\" >0.040451</td>\n",
       "      <td id=\"T_c049f_row1_col4\" class=\"data row1 col4\" >0.055838</td>\n",
       "      <td id=\"T_c049f_row1_col5\" class=\"data row1 col5\" >0.054545</td>\n",
       "    </tr>\n",
       "    <tr>\n",
       "      <th id=\"T_c049f_level0_row2\" class=\"row_heading level0 row2\" >2</th>\n",
       "      <td id=\"T_c049f_row2_col0\" class=\"data row2 col0\" >Rarely-less than once a week</td>\n",
       "      <td id=\"T_c049f_row2_col1\" class=\"data row2 col1\" >0.161392</td>\n",
       "      <td id=\"T_c049f_row2_col2\" class=\"data row2 col2\" >0.177438</td>\n",
       "      <td id=\"T_c049f_row2_col3\" class=\"data row2 col3\" >0.199602</td>\n",
       "      <td id=\"T_c049f_row2_col4\" class=\"data row2 col4\" >0.181472</td>\n",
       "      <td id=\"T_c049f_row2_col5\" class=\"data row2 col5\" >0.172727</td>\n",
       "    </tr>\n",
       "    <tr>\n",
       "      <th id=\"T_c049f_level0_row3\" class=\"row_heading level0 row3\" >3</th>\n",
       "      <td id=\"T_c049f_row3_col0\" class=\"data row3 col0\" >Sometimes-once a week or more but less than once a day</td>\n",
       "      <td id=\"T_c049f_row3_col1\" class=\"data row3 col1\" >0.338608</td>\n",
       "      <td id=\"T_c049f_row3_col2\" class=\"data row3 col2\" >0.410106</td>\n",
       "      <td id=\"T_c049f_row3_col3\" class=\"data row3 col3\" >0.393899</td>\n",
       "      <td id=\"T_c049f_row3_col4\" class=\"data row3 col4\" >0.371827</td>\n",
       "      <td id=\"T_c049f_row3_col5\" class=\"data row3 col5\" >0.309091</td>\n",
       "    </tr>\n",
       "    <tr>\n",
       "      <th id=\"T_c049f_level0_row4\" class=\"row_heading level0 row4\" >1</th>\n",
       "      <td id=\"T_c049f_row4_col0\" class=\"data row4 col0\" >Often-once a day or more</td>\n",
       "      <td id=\"T_c049f_row4_col1\" class=\"data row4 col1\" >0.452532</td>\n",
       "      <td id=\"T_c049f_row4_col2\" class=\"data row4 col2\" >0.371328</td>\n",
       "      <td id=\"T_c049f_row4_col3\" class=\"data row4 col3\" >0.355438</td>\n",
       "      <td id=\"T_c049f_row4_col4\" class=\"data row4 col4\" >0.375635</td>\n",
       "      <td id=\"T_c049f_row4_col5\" class=\"data row4 col5\" >0.454545</td>\n",
       "    </tr>\n",
       "  </tbody>\n",
       "</table>\n"
      ],
      "text/plain": [
       "<pandas.io.formats.style.Styler at 0x26c0e743c50>"
      ]
     },
     "execution_count": 170,
     "metadata": {},
     "output_type": "execute_result"
    }
   ],
   "source": [
    "# Contingency Table of General Health Versus How Often 18-35 year olds drank milk\n",
    "contingency = pd.crosstab(nhanes['HowOftenDrankMilkAge1835'],nhanes['GeneralHealthCondition'], normalize='columns')\n",
    "contingency = contingency[['Excellent', 'Very good', 'Good' , 'Fair or', \"Poor?\"]]\n",
    "contingency.reset_index(inplace=True)\n",
    "\n",
    "contingency[\"HowOftenDrankMilkAge1835\"] = pd.Categorical(contingency[\"HowOftenDrankMilkAge1835\"], \n",
    "                                                         categories=['Varied', 'Never', \"Rarely-less than once a week\",\n",
    "                                                                     'Sometimes-once a week or more but less than once a day', \n",
    "                                                                     'Often-once a day or more'], \n",
    "                                                         ordered=True)\n",
    "contingency.sort_values(by='Excellent', inplace=True)\n",
    "contingency.style.background_gradient(\n",
    "    cmap = 'Blues',\n",
    "    vmin = 0, vmax = 1\n",
    ")\n",
    "    # It appears that people who drink milk often have good health outcomes!\n",
    "    # But it also appears that the proportion of milk drinkers for people across the GeneralHealth spectrum is relatively equal. "
   ]
  },
  {
   "cell_type": "markdown",
   "id": "6cef48e5",
   "metadata": {},
   "source": [
    "## 2. \n",
    "- Open the NHANES dataset\n",
    "    - Read in above.\n",
    "- Find a categorical and numeric variable of interest (there are 198, and short descriptions are given in the `nhanes_meta_17_18.csv` file). Investigate their missing values (you don't have to focus on missing values for this analysis, but always be aware of them)\n",
    "    - `ofMealsFromFastGoodOrPizzaPlace` & `GeneralHealthCondition`\n",
    "- Make descriptive tables and grouped kernel density plots to represent the variation in your numeric $Y$ conditional on your categorical $X$\n",
    "    - See code below.\n",
    "- Discuss any interesting patterns (or lack of one) that you observe\n",
    "    - I expected to see a more signifigant correlation between the number of times one at fast-food pizza per week and the general health conditions. Both the KDE and ECDF plots, however, did not show that people of better health condition ate signifigantly less fast food. The grouped statistics did prove useful as the \"Excellent\" and \"Very Good\" Health Condition groups did have a signicantly lower mean number of weekly fast food consumption than the other (worse) conditions. "
   ]
  },
  {
   "cell_type": "code",
   "execution_count": 171,
   "id": "442c00ca",
   "metadata": {},
   "outputs": [
    {
     "name": "stdout",
     "output_type": "stream",
     "text": [
      "Proportion of NA Values for # of meals from fast food or pizza place: 22.97%\n",
      "Proportion of NA Values for General Health Condition: 28.71%\n"
     ]
    }
   ],
   "source": [
    "nhanes['OfMealsFromFastFoodOrPizzaPlace_na'] = nhanes['OfMealsFromFastFoodOrPizzaPlace'].isna()\n",
    "na = nhanes['OfMealsFromFastFoodOrPizzaPlace_na'].sum()/len(nhanes['OfMealsFromFastFoodOrPizzaPlace'])\n",
    "print(f'Proportion of NA Values for # of meals from fast food or pizza place: {na*100:,.2f}%')\n",
    "print(f'Proportion of NA Values for General Health Condition: {(nhanes['GeneralHealthCondition_na'].sum()/len(nhanes['GeneralHealthCondition_na']))*100:,.2f}%')\n"
   ]
  },
  {
   "cell_type": "code",
   "execution_count": 172,
   "id": "c17bdfcf",
   "metadata": {},
   "outputs": [
    {
     "name": "stdout",
     "output_type": "stream",
     "text": [
      "\u001b[1mCrosstab for nhanes General Health Condition vs. Fast Food NA: \u001b[0m\n"
     ]
    },
    {
     "data": {
      "text/html": [
       "<style type=\"text/css\">\n",
       "#T_ca39d_row0_col0 {\n",
       "  background-color: #1c6ab0;\n",
       "  color: #f1f1f1;\n",
       "}\n",
       "#T_ca39d_row0_col1 {\n",
       "  background-color: #2373b6;\n",
       "  color: #f1f1f1;\n",
       "}\n",
       "#T_ca39d_row0_col2 {\n",
       "  background-color: #1967ad;\n",
       "  color: #f1f1f1;\n",
       "}\n",
       "#T_ca39d_row0_col3 {\n",
       "  background-color: #1f6eb3;\n",
       "  color: #f1f1f1;\n",
       "}\n",
       "#T_ca39d_row0_col4 {\n",
       "  background-color: #1562a9;\n",
       "  color: #f1f1f1;\n",
       "}\n",
       "#T_ca39d_row1_col0 {\n",
       "  background-color: #cbdef1;\n",
       "  color: #000000;\n",
       "}\n",
       "#T_ca39d_row1_col1 {\n",
       "  background-color: #c3daee;\n",
       "  color: #000000;\n",
       "}\n",
       "#T_ca39d_row1_col2 {\n",
       "  background-color: #cde0f1;\n",
       "  color: #000000;\n",
       "}\n",
       "#T_ca39d_row1_col3 {\n",
       "  background-color: #c8dcf0;\n",
       "  color: #000000;\n",
       "}\n",
       "#T_ca39d_row1_col4 {\n",
       "  background-color: #d1e2f3;\n",
       "  color: #000000;\n",
       "}\n",
       "</style>\n",
       "<table id=\"T_ca39d\">\n",
       "  <thead>\n",
       "    <tr>\n",
       "      <th class=\"index_name level0\" >GeneralHealthCondition</th>\n",
       "      <th id=\"T_ca39d_level0_col0\" class=\"col_heading level0 col0\" >Excellent</th>\n",
       "      <th id=\"T_ca39d_level0_col1\" class=\"col_heading level0 col1\" >Fair or</th>\n",
       "      <th id=\"T_ca39d_level0_col2\" class=\"col_heading level0 col2\" >Good</th>\n",
       "      <th id=\"T_ca39d_level0_col3\" class=\"col_heading level0 col3\" >Poor?</th>\n",
       "      <th id=\"T_ca39d_level0_col4\" class=\"col_heading level0 col4\" >Very good</th>\n",
       "    </tr>\n",
       "    <tr>\n",
       "      <th class=\"index_name level0\" >OfMealsFromFastFoodOrPizzaPlace_na</th>\n",
       "      <th class=\"blank col0\" >&nbsp;</th>\n",
       "      <th class=\"blank col1\" >&nbsp;</th>\n",
       "      <th class=\"blank col2\" >&nbsp;</th>\n",
       "      <th class=\"blank col3\" >&nbsp;</th>\n",
       "      <th class=\"blank col4\" >&nbsp;</th>\n",
       "    </tr>\n",
       "  </thead>\n",
       "  <tbody>\n",
       "    <tr>\n",
       "      <th id=\"T_ca39d_level0_row0\" class=\"row_heading level0 row0\" >False</th>\n",
       "      <td id=\"T_ca39d_row0_col0\" class=\"data row0 col0\" >0.78</td>\n",
       "      <td id=\"T_ca39d_row0_col1\" class=\"data row0 col1\" >0.74</td>\n",
       "      <td id=\"T_ca39d_row0_col2\" class=\"data row0 col2\" >0.79</td>\n",
       "      <td id=\"T_ca39d_row0_col3\" class=\"data row0 col3\" >0.76</td>\n",
       "      <td id=\"T_ca39d_row0_col4\" class=\"data row0 col4\" >0.81</td>\n",
       "    </tr>\n",
       "    <tr>\n",
       "      <th id=\"T_ca39d_level0_row1\" class=\"row_heading level0 row1\" >True</th>\n",
       "      <td id=\"T_ca39d_row1_col0\" class=\"data row1 col0\" >0.22</td>\n",
       "      <td id=\"T_ca39d_row1_col1\" class=\"data row1 col1\" >0.26</td>\n",
       "      <td id=\"T_ca39d_row1_col2\" class=\"data row1 col2\" >0.21</td>\n",
       "      <td id=\"T_ca39d_row1_col3\" class=\"data row1 col3\" >0.24</td>\n",
       "      <td id=\"T_ca39d_row1_col4\" class=\"data row1 col4\" >0.19</td>\n",
       "    </tr>\n",
       "  </tbody>\n",
       "</table>\n"
      ],
      "text/plain": [
       "<pandas.io.formats.style.Styler at 0x26c0e743ed0>"
      ]
     },
     "execution_count": 172,
     "metadata": {},
     "output_type": "execute_result"
    }
   ],
   "source": [
    "# Lets look at NA values for specific health conditions\n",
    "crosstab = pd.crosstab(nhanes['OfMealsFromFastFoodOrPizzaPlace_na'], nhanes['GeneralHealthCondition'], normalize='columns')\n",
    "print(\"\\033[1mCrosstab for nhanes General Health Condition vs. Fast Food NA: \\033[0m\")\n",
    "crosstab.style.background_gradient(cmap = 'Blues', \n",
    "                                   vmin = 0, vmax = 1).format(\"{:.2f}\")\n",
    "    # Based on this crosstab table, the missing fast-food data is of relatively equal proportions for every health condition, which is good. "
   ]
  },
  {
   "cell_type": "code",
   "execution_count": 173,
   "id": "d67c4ca0",
   "metadata": {},
   "outputs": [
    {
     "data": {
      "image/png": "[encoded data removed]",
      "text/plain": [
       "<Figure size 640x480 with 1 Axes>"
      ]
     },
     "metadata": {},
     "output_type": "display_data"
    },
    {
     "data": {
      "image/png": "[encoded data removed]",
      "text/plain": [
       "<Figure size 640x480 with 1 Axes>"
      ]
     },
     "metadata": {},
     "output_type": "display_data"
    },
    {
     "name": "stdout",
     "output_type": "stream",
     "text": [
      "                       OfMealsFromFastFoodOrPizzaPlace                      \\\n",
      "                                                 count      mean       std   \n",
      "GeneralHealthCondition                                                       \n",
      "Excellent                                        480.0  1.856250  2.476226   \n",
      "Fair or                                          871.0  2.412170  2.874588   \n",
      "Good                                            1930.0  2.264249  2.736504   \n",
      "Poor?                                            130.0  2.276923  2.739364   \n",
      "Very good                                       1247.0  1.894948  2.543559   \n",
      "\n",
      "                                                                    \n",
      "                                 min           25%  50%  75%   max  \n",
      "GeneralHealthCondition                                              \n",
      "Excellent               5.397605e-79  5.397605e-79  1.0  2.0  17.0  \n",
      "Fair or                 5.397605e-79  1.000000e+00  2.0  3.0  21.0  \n",
      "Good                    5.397605e-79  1.000000e+00  1.0  3.0  21.0  \n",
      "Poor?                   5.397605e-79  1.000000e+00  2.0  3.0  21.0  \n",
      "Very good               5.397605e-79  5.397605e-79  1.0  2.0  21.0  \n"
     ]
    }
   ],
   "source": [
    "# Kernel Density Estimate Graph\n",
    "cleaned = nhanes[nhanes['OfMealsFromFastFoodOrPizzaPlace'] < 50] # Removing the crazy high outliers\n",
    "conditions = cleaned['GeneralHealthCondition'].unique()\n",
    "sns.kdeplot(data = cleaned, \n",
    "            x = 'OfMealsFromFastFoodOrPizzaPlace', \n",
    "            hue = 'GeneralHealthCondition'\n",
    "            )\n",
    "plt.xlabel('# of Fast Food or Pizza Meals per Week')\n",
    "plt.title('KDE Plot (Fast-Food/Week by Health Condition')\n",
    "plt.show()\n",
    "\n",
    "# Suprisingly, the plot fails to show that people who eat from fast food and pizza restaurants more frequently suffer from worse health conditions.\n",
    "\n",
    "# ECDF Plot\n",
    "sns.ecdfplot(data = cleaned, \n",
    "             x = 'OfMealsFromFastFoodOrPizzaPlace', \n",
    "             hue = 'GeneralHealthCondition', \n",
    "             )\n",
    "plt.xlabel('Number of Fast Food or Pizza Meals per Week')\n",
    "plt.title('ECDF Plot of Fast Food outings by Health Condition')\n",
    "plt.show()\n",
    "\n",
    "# This ECDF plot also fails to prove that there is any difference in health conditions for people who eat at fast food restaurents. \n",
    "\n",
    "# Descriptive Statistics\n",
    "print(cleaned.loc[:, ['GeneralHealthCondition', 'OfMealsFromFastFoodOrPizzaPlace']].groupby('GeneralHealthCondition').describe())\n",
    "\n",
    "# While it was hard to infer much from the graphs, the grouped descritive statistics show that the mean number of Fast-Food/Pizza meals\n",
    "    # per week is signifigantly lower for people of \"Excellent\" and \"Very Good\" health conditions.  "
   ]
  },
  {
   "cell_type": "markdown",
   "id": "4952e789",
   "metadata": {},
   "source": [
    "## 3. \n",
    "We showed that the mean and median could be discovered by minimizing various kinds of loss functions; this is what machine learning is. To make a prediction $\\hat{y}(z)$ of $Y$ when $X=z$, minimize the mean squared error:\n",
    "$$\n",
    "MSE(\\hat{y}(z)) = \\dfrac{1}{N} \\sum_{i=1}^N \\left\\lbrace y_i - \\hat{y}(z) \\right\\rbrace^2 \\frac{1}{h}k\\left(\\frac{z-x_i}{h}\\right)\n",
    "$$\n",
    "Show that the solution to this problem is the LCLS/Naradaya-Watson estimator.\n",
    "\n",
    "The Local Constant Least Squares Regression (LCLS) is \n",
    "$$\n",
    "\\hat{y}(z) =  \\frac{ \\frac{1}{N} \\sum_{i=1}^N y_i \\times \\frac{1}{h}k\\left( \\frac{z - x_i}{h} \\right)}{ \\frac{1}{N} \\sum_{i=1}^N \\frac{1}{h} k\\left( \\frac{z - x_i}{h} \\right)}\n",
    "$$\n",
    "\n",
    "\n",
    "**SOLUTION**: To get there, we take the derivative of the MSE with respect to y(z) and set equal to zero... Lets let $ W = \\frac{1}{h}k(\\frac{z-x_i}{h}) $. For ease of writing in Latex, I am going to use $ y_z = \\hat{y}(z) $\n",
    "\n",
    "$$\n",
    "\\frac{d\\hat{y}(z)}{dMSE} = \\sum_{i=1}^N W \\cdot -2(y_i - y_z) = 0\n",
    "$$\n",
    "$$\n",
    "0 = \\sum_{i=1}^N -2Wy_i + 2Wy_z\n",
    "$$\n",
    "Now we pull the constants out and divide by 2...\n",
    "$$\n",
    "0 = -\\sum_{i=1}^N Wy_i + y_z \\sum_{i=i}^N W\n",
    "$$\n",
    "$$\n",
    "\\sum_{i=1}^N Wy_i = y_z \\sum_{i=i}^N W\n",
    "$$\n",
    "$$\n",
    "\\frac{\\sum_{i=1}^N Wy_i}{\\sum_{i=i}^N W} = y_z\n",
    "$$\n",
    "Remember W is equal to our kernel estimator... and BELOW IS THE *Local Constant Least Squares Regression!*\n",
    "$$\n",
    "\\frac{\\sum_{i=1}^N y_i\\frac{1}{h}k(\\frac{z-x_i}{h})}{\\sum_{i=i}^N \\frac{1}{h}k(\\frac{z-x_i}{h})} = \\hat{y}(z)\n",
    "$$\n"
   ]
  },
  {
   "cell_type": "markdown",
   "id": "98884d76",
   "metadata": {},
   "source": [
    "## 4. \n",
    "- Write a class or set of functions that implement the LCLS/Naradaya-Watson estimator, using the Silverman plug-in estimate for the conditioning variable $X$ as the bandwidth.\n",
    "- From one of the course data sets, find two numeric variables of interest, analyze their relationship with the the LCLS/Naradaya-Watson estimator, and discuss your results."
   ]
  },
  {
   "cell_type": "code",
   "execution_count": 174,
   "id": "d961a18f",
   "metadata": {},
   "outputs": [
    {
     "data": {
      "image/png": "[encoded data removed]",
      "text/plain": [
       "<Figure size 640x480 with 1 Axes>"
      ]
     },
     "metadata": {},
     "output_type": "display_data"
    }
   ],
   "source": [
    "data = pd.read_csv('metabric.csv')\n",
    "sns.scatterplot(data, x='Tumor Size', y='Overall Survival (Months)', alpha=.5)\n",
    "plt.title('Scatterplot that we will fit with LCLS')\n",
    "plt.show()"
   ]
  },
  {
   "cell_type": "code",
   "execution_count": 175,
   "id": "bd02df6e",
   "metadata": {},
   "outputs": [],
   "source": [
    "# LCLS FUNCTION:\n",
    "\n",
    "def LCLS_Function(col_x, col_y):\n",
    "    Y = col_y.to_numpy()\n",
    "    X = col_x.to_numpy().reshape(-1,1)\n",
    "    GRID = np.sort(np.unique(X)).reshape(1,-1)\n",
    "    \n",
    "    # Compute Silverman Bandwidth\n",
    "    iqr = np.quantile(X, .75) - np.quantile(X, .25)\n",
    "    h = 0.9 * min(np.std(X), iqr/1.34) * len(X)**(-0.2)\n",
    "\n",
    "    # Compute U for the Kernel:\n",
    "    u = (X-GRID) / h\n",
    "\n",
    "    # Compute Kernel (Gaussian):\n",
    "    kernel = 1/h * (1/np.sqrt((2*np.pi))) * np.exp(-.5*(u**2)) # This is the gaussian kernel\n",
    "\n",
    "    # Compute Numerator and Denominator\n",
    "    numerator = Y @ kernel\n",
    "    demoninator = np.sum(kernel, axis=0)\n",
    "    LCLS = numerator/(demoninator + 1e-12) # ensures no zero division error\n",
    "    return LCLS, GRID"
   ]
  },
  {
   "cell_type": "code",
   "execution_count": 176,
   "id": "a074abd6",
   "metadata": {},
   "outputs": [],
   "source": [
    "# FUNCTION CALL:\n",
    "lcls, grid = LCLS_Function(data['Tumor Size'], data['Overall Survival (Months)'])"
   ]
  },
  {
   "cell_type": "code",
   "execution_count": 177,
   "id": "28b03142",
   "metadata": {},
   "outputs": [
    {
     "data": {
      "image/png": "[encoded data removed]",
      "text/plain": [
       "<Figure size 640x480 with 1 Axes>"
      ]
     },
     "metadata": {},
     "output_type": "display_data"
    }
   ],
   "source": [
    "# Now we Plot:\n",
    "sns.set_theme(style='darkgrid')\n",
    "sns.scatterplot(data = data, \n",
    "                x = 'Tumor Size', \n",
    "                y = 'Overall Survival (Months)', \n",
    "                alpha = .5)\n",
    "sns.lineplot(x = grid.ravel(), \n",
    "             y = lcls, \n",
    "             color = 'orange')\n",
    "plt.title('Scatterplot with LCLS Regression', fontweight='bold')\n",
    "plt.show()"
   ]
  },
  {
   "cell_type": "markdown",
   "id": "0534c110",
   "metadata": {},
   "source": [
    "## 5. \n",
    "- In any of the available data sets, investigate the relationships between pairs of variables $(X,Y)$ with a scatterplot and CEF (for example, price on area)\n",
    "- Is this relationship plausibly causal, or are there missing variables that might explain at least part of the relationship between your variables? These can be \"conceptual\" rather than \"practical\"; for example, 'talent' or 'grit' probably explain education outcomes, but are almost impossible to measure. We are asking whether there are hypothetical **threats to causal identification** of the effect of $X$ on $Y$. *See answer below graphs*\n",
    "- Explain how, regardless of the threat to causal identification, you can still use your model to predict $Y$ given $X$, as long as you don't intervene in the system to control the outcome"
   ]
  },
  {
   "cell_type": "code",
   "execution_count": 178,
   "id": "e6a84af8",
   "metadata": {},
   "outputs": [],
   "source": [
    "college = pd.read_csv('college_completion.csv')\n",
    "college = college[(college['med_sat_value'].notna()) &\n",
    "                  (college['awards_per_value'].notna())]"
   ]
  },
  {
   "cell_type": "code",
   "execution_count": 179,
   "id": "3fc955b4",
   "metadata": {},
   "outputs": [
    {
     "data": {
      "image/png": "[encoded data removed]",
      "text/plain": [
       "<Figure size 640x480 with 1 Axes>"
      ]
     },
     "metadata": {},
     "output_type": "display_data"
    }
   ],
   "source": [
    "# Scatterplot:\n",
    "x = college['med_sat_value']\n",
    "y = college['awards_per_value']\n",
    "sns.set_theme(style='dark')\n",
    "sns.scatterplot(\n",
    "    data = college, \n",
    "    x = x, \n",
    "    y = y, \n",
    "    alpha = .5\n",
    ")\n",
    "plt.title('Sat Scores vs. Number of Awards', fontweight= 'bold')\n",
    "plt.show()"
   ]
  },
  {
   "cell_type": "code",
   "execution_count": 180,
   "id": "1691b1d0",
   "metadata": {},
   "outputs": [
    {
     "data": {
      "image/png": "[encoded data removed]",
      "text/plain": [
       "<Figure size 640x480 with 1 Axes>"
      ]
     },
     "metadata": {},
     "output_type": "display_data"
    }
   ],
   "source": [
    "# CEF Plot: Use function from before to plot Conditional Expectation line!\n",
    "lcls, grid = LCLS_Function(x, y)\n",
    "\n",
    "sns.set_theme(style='dark')\n",
    "sns.scatterplot(\n",
    "    data = college, \n",
    "    x = x, \n",
    "    y = y, \n",
    "    alpha = .5)\n",
    "sns.lineplot(\n",
    "    x = grid.ravel(), \n",
    "    y = lcls, \n",
    "    color = 'orange'\n",
    ")\n",
    "plt.title('Scatterplot with CEF (LCLS Function)', fontweight='bold')\n",
    "plt.show()"
   ]
  },
  {
   "cell_type": "markdown",
   "id": "17c52934",
   "metadata": {},
   "source": [
    "##### **Causality and Missing Variables?** \n",
    "\n",
    "In the scatterplot with the conditional expectation function above, we try to predict the number of awards per 100 students by using SAT Score as our predictor. If we were interested ONLY in purely ACADEMIC awards, then SAT Score would be a better *causal predictor*. However, since we are interested in ALL AWARDS, there are other variables that would help predict the number of awards students receive. To say that SAT Score is a causal predictor for ALL awards would be shortsighted as there are more ways to earn an award in college than just through academic performance. Additionally, many students who have a terrific GPA do not have as great an SAT score. By not including predictors such as # of clubs a student is involved in, average GPA, and number of students involved in research, we likely have an omited variable bias. \n",
    "\n",
    "Our model fits these data better for colleges with very high SAT score, which makes sense given that most of the awards to those schools are likely academic. The value of the residuals, however, is much greater where SAT_SCORE=~1000, which means there is more error in our prediction. This non-constant variance of the residuals is called heteroscedasticity and it is possible that there is an omitted variable that would help our analysis. "
   ]
  },
  {
   "cell_type": "markdown",
   "id": "b1159441",
   "metadata": {},
   "source": [
    "##### **Can we still use the model to predict Y?**\n",
    "\n",
    "Even if our Conditional Expectation Function/Model *does* suffer from omitted variables and lacks causal indentification, we can still use the model as there is **correlation** between SAT_Scores and number of awards that a school recieves per 100 students. Particularly for schools of high SAT Scores, this predictor appears to have a good fit to our awards data. "
   ]
  }
 ],
 "metadata": {
  "kernelspec": {
   "display_name": "uncertainty",
   "language": "python",
   "name": "python3"
  },
  "language_info": {
   "codemirror_mode": {
    "name": "ipython",
    "version": 3
   },
   "file_extension": ".py",
   "mimetype": "text/x-python",
   "name": "python",
   "nbconvert_exporter": "python",
   "pygments_lexer": "ipython3",
   "version": "3.13.5"
  }
 },
 "nbformat": 4,
 "nbformat_minor": 5
}
